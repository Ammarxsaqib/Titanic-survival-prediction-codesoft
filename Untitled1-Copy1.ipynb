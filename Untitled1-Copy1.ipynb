{
 "cells": [
  {
   "cell_type": "markdown",
   "id": "fc701353",
   "metadata": {},
   "source": [
    "# Titanic Survival Prediction"
   ]
  },
  {
   "cell_type": "raw",
   "id": "a3993449",
   "metadata": {},
   "source": [
    "The code demonstrates the complete process of handling data, preprocessing, model selection, hyperparameter tuning, training, evaluation, and visualization to predict survival on the Titanic dataset. It aims to help users understand the steps involved in building a machine learning model for a binary classification problem."
   ]
  },
  {
   "cell_type": "code",
   "execution_count": 2,
   "id": "58f3f297",
   "metadata": {},
   "outputs": [],
   "source": [
    "import pandas as pd\n",
    "import numpy as np\n",
    "import matplotlib.pyplot as plt\n",
    "import seaborn as sns\n",
    "from sklearn.model_selection import train_test_split, GridSearchCV\n",
    "from sklearn.preprocessing import StandardScaler, OneHotEncoder\n",
    "from sklearn.ensemble import RandomForestClassifier\n",
    "from sklearn.metrics import classification_report, confusion_matrix\n",
    "import warnings"
   ]
  },
  {
   "cell_type": "markdown",
   "id": "b89e4ca3",
   "metadata": {},
   "source": [
    "## Suppress FutureWarnings related to is_categorical_dtype"
   ]
  },
  {
   "cell_type": "code",
   "execution_count": 3,
   "id": "03aa7f9f",
   "metadata": {},
   "outputs": [],
   "source": [
    "warnings.filterwarnings(\"ignore\", category=FutureWarning)"
   ]
  },
  {
   "cell_type": "markdown",
   "id": "ac279c3d",
   "metadata": {},
   "source": [
    "## Load your dataset"
   ]
  },
  {
   "cell_type": "code",
   "execution_count": 4,
   "id": "edc1af17",
   "metadata": {},
   "outputs": [],
   "source": [
    "data = pd.read_csv(\"tested.csv\")"
   ]
  },
  {
   "cell_type": "markdown",
   "id": "8f097343",
   "metadata": {},
   "source": [
    "## Drop rows with missing values"
   ]
  },
  {
   "cell_type": "code",
   "execution_count": 5,
   "id": "637cafb9",
   "metadata": {},
   "outputs": [],
   "source": [
    "data.dropna(inplace=True)"
   ]
  },
  {
   "cell_type": "markdown",
   "id": "28a44291",
   "metadata": {},
   "source": [
    "## Extract titles from 'Name'"
   ]
  },
  {
   "cell_type": "code",
   "execution_count": 6,
   "id": "2faf0709",
   "metadata": {},
   "outputs": [],
   "source": [
    "data['Title'] = data['Name'].str.extract(' ([A-Za-z]+)\\.', expand=False)\n",
    "data['Title'] = data['Title'].replace(['Lady', 'Countess','Capt', 'Col', 'Don', 'Dr', 'Major', 'Rev', 'Sir', 'Jonkheer', 'Dona'], 'Rare')\n",
    "data['Title'] = data['Title'].replace(['Mlle', 'Ms'], 'Miss')\n",
    "data['Title'] = data['Title'].replace('Mme', 'Mrs')\n",
    "data['Title'] = data['Title'].map({\"Mr\": 1, \"Miss\": 2, \"Mrs\": 3, \"Master\": 4, \"Rare\": 5}).fillna(0)"
   ]
  },
  {
   "cell_type": "markdown",
   "id": "81426fff",
   "metadata": {},
   "source": [
    "## Create a new feature 'FamilySize'"
   ]
  },
  {
   "cell_type": "code",
   "execution_count": 7,
   "id": "7eee4d80",
   "metadata": {},
   "outputs": [],
   "source": [
    "data['FamilySize'] = data['SibSp'] + data['Parch']"
   ]
  },
  {
   "cell_type": "markdown",
   "id": "a2bef01f",
   "metadata": {},
   "source": [
    "## Drop unnecessary columns"
   ]
  },
  {
   "cell_type": "code",
   "execution_count": 8,
   "id": "2456aaac",
   "metadata": {},
   "outputs": [],
   "source": [
    "data.drop(['PassengerId', 'Name', 'Ticket', 'Cabin', 'Age'], axis=1, inplace=True)"
   ]
  },
  {
   "cell_type": "markdown",
   "id": "a72a1f8f",
   "metadata": {},
   "source": [
    "## Encode categorical variables"
   ]
  },
  {
   "cell_type": "code",
   "execution_count": 9,
   "id": "99c4e52d",
   "metadata": {},
   "outputs": [],
   "source": [
    "encoder = OneHotEncoder(drop='first')\n",
    "data_encoded = pd.get_dummies(data, columns=['Pclass', 'Sex', 'Embarked'], drop_first=True)"
   ]
  },
  {
   "cell_type": "markdown",
   "id": "c02e08fb",
   "metadata": {},
   "source": [
    "## Split data into features and target variable"
   ]
  },
  {
   "cell_type": "code",
   "execution_count": 10,
   "id": "aba1fa5f",
   "metadata": {},
   "outputs": [],
   "source": [
    "X = data_encoded.drop('Survived', axis=1)\n",
    "y = data_encoded['Survived']"
   ]
  },
  {
   "cell_type": "markdown",
   "id": "02c44f2f",
   "metadata": {},
   "source": [
    "## Split data into training and testing sets"
   ]
  },
  {
   "cell_type": "code",
   "execution_count": 11,
   "id": "a187c88c",
   "metadata": {},
   "outputs": [],
   "source": [
    "X_train, X_test, y_train, y_test = train_test_split(X, y, test_size=0.2, random_state=42)"
   ]
  },
  {
   "cell_type": "markdown",
   "id": "ea94d7c9",
   "metadata": {},
   "source": [
    "## Standardize numeric features"
   ]
  },
  {
   "cell_type": "code",
   "execution_count": 12,
   "id": "204f3226",
   "metadata": {},
   "outputs": [],
   "source": [
    "scaler = StandardScaler()\n",
    "X_train[['Fare', 'FamilySize']] = scaler.fit_transform(X_train[['Fare', 'FamilySize']])\n",
    "X_test[['Fare', 'FamilySize']] = scaler.transform(X_test[['Fare', 'FamilySize']])"
   ]
  },
  {
   "cell_type": "markdown",
   "id": "b1776c8c",
   "metadata": {},
   "source": [
    "## Initialize and train the model (Random Forest)"
   ]
  },
  {
   "cell_type": "code",
   "execution_count": 13,
   "id": "9a113050",
   "metadata": {},
   "outputs": [],
   "source": [
    "rf_model = RandomForestClassifier(random_state=42)"
   ]
  },
  {
   "cell_type": "markdown",
   "id": "8dc8511b",
   "metadata": {},
   "source": [
    "## Hyperparameter tuning using GridSearchCV"
   ]
  },
  {
   "cell_type": "code",
   "execution_count": 14,
   "id": "78142ded",
   "metadata": {},
   "outputs": [
    {
     "name": "stdout",
     "output_type": "stream",
     "text": [
      "Fitting 5 folds for each of 216 candidates, totalling 1080 fits\n"
     ]
    }
   ],
   "source": [
    "param_grid = {\n",
    "    'n_estimators': [100, 200, 300],\n",
    "    'max_depth': [None, 10, 20, 30],\n",
    "    'min_samples_split': [2, 5, 10],\n",
    "    'min_samples_leaf': [1, 2, 4],\n",
    "    'max_features': ['sqrt', 'log2']  # Updated max_features options\n",
    "}\n",
    "\n",
    "grid_search = GridSearchCV(rf_model, param_grid, cv=5, n_jobs=-1, verbose=1)\n",
    "grid_search.fit(X_train, y_train)\n",
    "\n",
    "best_rf_model = grid_search.best_estimator_\n"
   ]
  },
  {
   "cell_type": "markdown",
   "id": "af4ca4d8",
   "metadata": {},
   "source": [
    "## Make predictions on the test set"
   ]
  },
  {
   "cell_type": "code",
   "execution_count": 15,
   "id": "339a8c00",
   "metadata": {},
   "outputs": [],
   "source": [
    "y_pred = best_rf_model.predict(X_test)"
   ]
  },
  {
   "cell_type": "markdown",
   "id": "a7aab0be",
   "metadata": {},
   "source": [
    "## Evaluate the model"
   ]
  },
  {
   "cell_type": "code",
   "execution_count": 16,
   "id": "0856985b",
   "metadata": {},
   "outputs": [
    {
     "name": "stdout",
     "output_type": "stream",
     "text": [
      "Random Forest Classifier Results:\n",
      "              precision    recall  f1-score   support\n",
      "\n",
      "           0       1.00      1.00      1.00         8\n",
      "           1       1.00      1.00      1.00        10\n",
      "\n",
      "    accuracy                           1.00        18\n",
      "   macro avg       1.00      1.00      1.00        18\n",
      "weighted avg       1.00      1.00      1.00        18\n",
      "\n",
      "Confusion Matrix:\n",
      "[[ 8  0]\n",
      " [ 0 10]]\n"
     ]
    }
   ],
   "source": [
    "print(\"Random Forest Classifier Results:\")\n",
    "print(classification_report(y_test, y_pred))\n",
    "print(\"Confusion Matrix:\")\n",
    "print(confusion_matrix(y_test, y_pred))"
   ]
  },
  {
   "cell_type": "markdown",
   "id": "5ec3848d",
   "metadata": {},
   "source": [
    "## Visualizations"
   ]
  },
  {
   "cell_type": "code",
   "execution_count": 17,
   "id": "29e60e56",
   "metadata": {},
   "outputs": [
    {
     "data": {
      "text/plain": [
       "<Figure size 1200x800 with 0 Axes>"
      ]
     },
     "execution_count": 17,
     "metadata": {},
     "output_type": "execute_result"
    },
    {
     "data": {
      "text/plain": [
       "<Figure size 1200x800 with 0 Axes>"
      ]
     },
     "metadata": {},
     "output_type": "display_data"
    }
   ],
   "source": [
    "plt.figure(figsize=(12, 8))"
   ]
  },
  {
   "cell_type": "markdown",
   "id": "33939fae",
   "metadata": {},
   "source": [
    "## Survival Count by Gender"
   ]
  },
  {
   "cell_type": "code",
   "execution_count": 18,
   "id": "a2d74feb",
   "metadata": {},
   "outputs": [
    {
     "data": {
      "text/plain": [
       "<matplotlib.legend.Legend at 0x11d5f951510>"
      ]
     },
     "execution_count": 18,
     "metadata": {},
     "output_type": "execute_result"
    },
    {
     "data": {
      "image/png": "[encoded data removed]",
      "text/plain": [
       "<Figure size 640x480 with 1 Axes>"
      ]
     },
     "metadata": {},
     "output_type": "display_data"
    }
   ],
   "source": [
    "plt.subplot(2, 2, 1)\n",
    "sns.countplot(x='Sex_male', hue='Survived', data=data_encoded)  # Corrected column name to 'Sex_male'\n",
    "plt.title('Survival Count by Gender')\n",
    "plt.xlabel('Gender')\n",
    "plt.ylabel('Count')\n",
    "plt.legend(title='Survived', labels=['No', 'Yes'])"
   ]
  },
  {
   "cell_type": "markdown",
   "id": "21495895",
   "metadata": {},
   "source": [
    "## Survival Rate by Passenger Class"
   ]
  },
  {
   "cell_type": "code",
   "execution_count": 19,
   "id": "c8e3b898",
   "metadata": {},
   "outputs": [
    {
     "data": {
      "text/plain": [
       "Text(0, 0.5, 'Survival Rate')"
      ]
     },
     "execution_count": 19,
     "metadata": {},
     "output_type": "execute_result"
    },
    {
     "data": {
      "image/png": "[encoded data removed]",
      "text/plain": [
       "<Figure size 640x480 with 1 Axes>"
      ]
     },
     "metadata": {},
     "output_type": "display_data"
    }
   ],
   "source": [
    "plt.subplot(2, 2, 2)\n",
    "sns.barplot(x='Pclass_2', y='Survived', data=data_encoded)\n",
    "plt.title('Survival Rate by Passenger Class')\n",
    "plt.xlabel('Passenger Class')\n",
    "plt.ylabel('Survival Rate')"
   ]
  },
  {
   "cell_type": "markdown",
   "id": "cfd59933",
   "metadata": {},
   "source": [
    "## Survival Rate by Title"
   ]
  },
  {
   "cell_type": "code",
   "execution_count": 20,
   "id": "5425d43e",
   "metadata": {},
   "outputs": [
    {
     "data": {
      "image/png": "[encoded data removed]",
      "text/plain": [
       "<Figure size 640x480 with 1 Axes>"
      ]
     },
     "metadata": {},
     "output_type": "display_data"
    }
   ],
   "source": [
    "plt.subplot(2, 2, 3)\n",
    "sns.barplot(x='Title', y='Survived', data=data_encoded)\n",
    "plt.title('Survival Rate by Title')\n",
    "plt.xlabel('Title')\n",
    "plt.ylabel('Survival Rate')\n",
    "\n",
    "plt.tight_layout()\n",
    "plt.show()"
   ]
  },
  {
   "cell_type": "code",
   "execution_count": null,
   "id": "16334592",
   "metadata": {},
   "outputs": [],
   "source": []
  }
 ],
 "metadata": {
  "kernelspec": {
   "display_name": "Python 3 (ipykernel)",
   "language": "python",
   "name": "python3"
  },
  "language_info": {
   "codemirror_mode": {
    "name": "ipython",
    "version": 3
   },
   "file_extension": ".py",
   "mimetype": "text/x-python",
   "name": "python",
   "nbconvert_exporter": "python",
   "pygments_lexer": "ipython3",
   "version": "3.11.4"
  }
 },
 "nbformat": 4,
 "nbformat_minor": 5
}
